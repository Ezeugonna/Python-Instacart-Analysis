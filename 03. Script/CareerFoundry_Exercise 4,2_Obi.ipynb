{
 "cells": [
  {
   "cell_type": "markdown",
   "id": "4ddc6100",
   "metadata": {},
   "source": [
    "# 01. Importing Libraries"
   ]
  },
  {
   "cell_type": "code",
   "execution_count": 1,
   "id": "a81b70a4",
   "metadata": {},
   "outputs": [],
   "source": [
    "# import libraries"
   ]
  },
  {
   "cell_type": "code",
   "execution_count": 2,
   "id": "1ef1c82e",
   "metadata": {},
   "outputs": [],
   "source": [
    "import pandas as pd\n",
    "import numpy as np\n",
    "import os"
   ]
  },
  {
   "cell_type": "markdown",
   "id": "84795f75",
   "metadata": {},
   "source": [
    "# 02. Working with Python Data Types"
   ]
  },
  {
   "cell_type": "code",
   "execution_count": 3,
   "id": "9961acbc",
   "metadata": {},
   "outputs": [],
   "source": [
    "# Code 3 different ways of reaching a result of 100"
   ]
  },
  {
   "cell_type": "code",
   "execution_count": 4,
   "id": "241b4168",
   "metadata": {},
   "outputs": [],
   "source": [
    "x = 35"
   ]
  },
  {
   "cell_type": "code",
   "execution_count": 5,
   "id": "a6b76cc1",
   "metadata": {},
   "outputs": [],
   "source": [
    "y = 65"
   ]
  },
  {
   "cell_type": "code",
   "execution_count": 6,
   "id": "915a1c41",
   "metadata": {},
   "outputs": [
    {
     "data": {
      "text/plain": [
       "100"
      ]
     },
     "execution_count": 6,
     "metadata": {},
     "output_type": "execute_result"
    }
   ],
   "source": [
    "x + y"
   ]
  },
  {
   "cell_type": "code",
   "execution_count": 11,
   "id": "721f6c29",
   "metadata": {},
   "outputs": [],
   "source": [
    "x = x + 150"
   ]
  },
  {
   "cell_type": "code",
   "execution_count": 12,
   "id": "6b5f5e41",
   "metadata": {},
   "outputs": [
    {
     "data": {
      "text/plain": [
       "int"
      ]
     },
     "execution_count": 12,
     "metadata": {},
     "output_type": "execute_result"
    }
   ],
   "source": [
    "type(x)"
   ]
  },
  {
   "cell_type": "code",
   "execution_count": 13,
   "id": "c0b1f778",
   "metadata": {},
   "outputs": [
    {
     "name": "stdout",
     "output_type": "stream",
     "text": [
      "345\n"
     ]
    }
   ],
   "source": [
    "print(x)"
   ]
  },
  {
   "cell_type": "code",
   "execution_count": 14,
   "id": "6e04215a",
   "metadata": {},
   "outputs": [],
   "source": [
    "y = y + 180"
   ]
  },
  {
   "cell_type": "code",
   "execution_count": 15,
   "id": "40ea0fae",
   "metadata": {},
   "outputs": [
    {
     "name": "stdout",
     "output_type": "stream",
     "text": [
      "245\n"
     ]
    }
   ],
   "source": [
    "print(y)"
   ]
  },
  {
   "cell_type": "code",
   "execution_count": 16,
   "id": "784bf2eb",
   "metadata": {},
   "outputs": [
    {
     "data": {
      "text/plain": [
       "100"
      ]
     },
     "execution_count": 16,
     "metadata": {},
     "output_type": "execute_result"
    }
   ],
   "source": [
    "x - y"
   ]
  },
  {
   "cell_type": "code",
   "execution_count": 17,
   "id": "9e44f7b3",
   "metadata": {},
   "outputs": [],
   "source": [
    "z = 490"
   ]
  },
  {
   "cell_type": "code",
   "execution_count": 18,
   "id": "9d8ccc40",
   "metadata": {},
   "outputs": [
    {
     "data": {
      "text/plain": [
       "100"
      ]
     },
     "execution_count": 18,
     "metadata": {},
     "output_type": "execute_result"
    }
   ],
   "source": [
    "x + y - z"
   ]
  },
  {
   "cell_type": "code",
   "execution_count": 19,
   "id": "bc35ed67",
   "metadata": {},
   "outputs": [],
   "source": [
    "# Code 2 floating-point variables and divide them by each other"
   ]
  },
  {
   "cell_type": "code",
   "execution_count": 26,
   "id": "f106a3ca",
   "metadata": {},
   "outputs": [],
   "source": [
    "x = 4.2"
   ]
  },
  {
   "cell_type": "code",
   "execution_count": 27,
   "id": "a10a3e8a",
   "metadata": {},
   "outputs": [],
   "source": [
    "y = 2.8"
   ]
  },
  {
   "cell_type": "code",
   "execution_count": 28,
   "id": "0d731f2f",
   "metadata": {},
   "outputs": [
    {
     "data": {
      "text/plain": [
       "1.5000000000000002"
      ]
     },
     "execution_count": 28,
     "metadata": {},
     "output_type": "execute_result"
    }
   ],
   "source": [
    "x/y"
   ]
  },
  {
   "cell_type": "code",
   "execution_count": 29,
   "id": "c1d362fa",
   "metadata": {},
   "outputs": [],
   "source": [
    "x = 92.953"
   ]
  },
  {
   "cell_type": "code",
   "execution_count": 30,
   "id": "61fd7249",
   "metadata": {},
   "outputs": [],
   "source": [
    "y = 87.33"
   ]
  },
  {
   "cell_type": "code",
   "execution_count": 31,
   "id": "e3d73339",
   "metadata": {},
   "outputs": [
    {
     "data": {
      "text/plain": [
       "8117.58549"
      ]
     },
     "execution_count": 31,
     "metadata": {},
     "output_type": "execute_result"
    }
   ],
   "source": [
    "x * y"
   ]
  },
  {
   "cell_type": "code",
   "execution_count": 32,
   "id": "53203d3a",
   "metadata": {},
   "outputs": [],
   "source": [
    "# Construct a short word made of separate strings"
   ]
  },
  {
   "cell_type": "code",
   "execution_count": 39,
   "id": "d37cb8ef",
   "metadata": {},
   "outputs": [],
   "source": [
    "x = 'Ebube and '"
   ]
  },
  {
   "cell_type": "code",
   "execution_count": 40,
   "id": "cc60c0c7",
   "metadata": {},
   "outputs": [],
   "source": [
    "y = 'Zara'"
   ]
  },
  {
   "cell_type": "code",
   "execution_count": 41,
   "id": "f2b9393c",
   "metadata": {},
   "outputs": [
    {
     "data": {
      "text/plain": [
       "'Ebube and Zara'"
      ]
     },
     "execution_count": 41,
     "metadata": {},
     "output_type": "execute_result"
    }
   ],
   "source": [
    "x + y"
   ]
  },
  {
   "cell_type": "code",
   "execution_count": 42,
   "id": "f2dede23",
   "metadata": {},
   "outputs": [],
   "source": [
    "# Construct a short word made of separate strings"
   ]
  },
  {
   "cell_type": "code",
   "execution_count": 47,
   "id": "56a12082",
   "metadata": {},
   "outputs": [],
   "source": [
    "z = ' are my kids'"
   ]
  },
  {
   "cell_type": "code",
   "execution_count": 48,
   "id": "48df7888",
   "metadata": {},
   "outputs": [
    {
     "data": {
      "text/plain": [
       "'Ebube and Zara are my kids'"
      ]
     },
     "execution_count": 48,
     "metadata": {},
     "output_type": "execute_result"
    }
   ],
   "source": [
    "x + y + z"
   ]
  },
  {
   "cell_type": "code",
   "execution_count": null,
   "id": "c627ce3b",
   "metadata": {},
   "outputs": [],
   "source": []
  }
 ],
 "metadata": {
  "kernelspec": {
   "display_name": "Python 3 (ipykernel)",
   "language": "python",
   "name": "python3"
  },
  "language_info": {
   "codemirror_mode": {
    "name": "ipython",
    "version": 3
   },
   "file_extension": ".py",
   "mimetype": "text/x-python",
   "name": "python",
   "nbconvert_exporter": "python",
   "pygments_lexer": "ipython3",
   "version": "3.11.7"
  }
 },
 "nbformat": 4,
 "nbformat_minor": 5
}
