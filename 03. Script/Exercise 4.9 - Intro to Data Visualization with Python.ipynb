{
 "cells": [
  {
   "cell_type": "code",
   "execution_count": 2,
   "id": "be984d0e",
   "metadata": {},
   "outputs": [],
   "source": [
    "# import libraries\n",
    "import pandas as pd\n",
    "import numpy as np\n",
    "import os\n",
    "import matplotlib.pyplot as plt\n",
    "import seaborn as sns\n",
    "import scipy"
   ]
  },
  {
   "cell_type": "code",
   "execution_count": 3,
   "id": "da1a1c27",
   "metadata": {},
   "outputs": [],
   "source": [
    "# This command tells python to remember a main folder path_Original Data\n",
    "path_1= r'/Users/obinwannealisigwe/Desktop/Python/Achievement_4_Project_Obi/02. Data/Original Data'"
   ]
  },
  {
   "cell_type": "code",
   "execution_count": 4,
   "id": "1144499f",
   "metadata": {},
   "outputs": [],
   "source": [
    "# This command tells python to remember a main folder path_Prepared Data\n",
    "path = r'/Users/obinwannealisigwe/Desktop/Python/Achievement_4_Project_Obi/02. Data/Prepared Data'"
   ]
  },
  {
   "cell_type": "code",
   "execution_count": 5,
   "id": "9c9e39df",
   "metadata": {},
   "outputs": [],
   "source": [
    "# Importing the 'df_merged' file into the Jupyter \n",
    "df_ord_prod_merge_grouped_visual = pd.read_pickle(os.path.join(path, 'orders_products_combined_groupedby_merged_derived.pkl'))"
   ]
  },
  {
   "cell_type": "code",
   "execution_count": 6,
   "id": "137262d5",
   "metadata": {},
   "outputs": [
    {
     "data": {
      "text/plain": [
       "<Axes: xlabel='orders_day_of_week'>"
      ]
     },
     "execution_count": 6,
     "metadata": {},
     "output_type": "execute_result"
    },
    {
     "data": {
      "image/png": "[encoded data removed]",
      "text/plain": [
       "<Figure size 640x480 with 1 Axes>"
      ]
     },
     "metadata": {},
     "output_type": "display_data"
    }
   ],
   "source": [
    "# Create a bar chart\n",
    "df_ord_prod_merge_grouped_visual['orders_day_of_week'].value_counts().plot.bar()"
   ]
  },
  {
   "cell_type": "code",
   "execution_count": 7,
   "id": "a8752b86",
   "metadata": {},
   "outputs": [],
   "source": [
    "# This command defines the path where python saves the Bar Chart\n",
    "path = r'/Users/obinwannealisigwe/Desktop/Python/Achievement_4_Project_Obi'"
   ]
  },
  {
   "cell_type": "code",
   "execution_count": 8,
   "id": "9eaa5361",
   "metadata": {},
   "outputs": [
    {
     "ename": "NameError",
     "evalue": "name 'bar' is not defined",
     "output_type": "error",
     "traceback": [
      "\u001b[0;31m---------------------------------------------------------------------------\u001b[0m",
      "\u001b[0;31mNameError\u001b[0m                                 Traceback (most recent call last)",
      "Cell \u001b[0;32mIn[8], line 2\u001b[0m\n\u001b[1;32m      1\u001b[0m \u001b[38;5;66;03m# Saving the Bar Chart in the path\u001b[39;00m\n\u001b[0;32m----> 2\u001b[0m bar\u001b[38;5;241m.\u001b[39mfigure\u001b[38;5;241m.\u001b[39msavefig(os\u001b[38;5;241m.\u001b[39mpath\u001b[38;5;241m.\u001b[39mjoin(path, \u001b[38;5;124m'\u001b[39m\u001b[38;5;124mVisualizations\u001b[39m\u001b[38;5;124m'\u001b[39m, \u001b[38;5;124m'\u001b[39m\u001b[38;5;124mBar_orders_dow.png\u001b[39m\u001b[38;5;124m'\u001b[39m))\n",
      "\u001b[0;31mNameError\u001b[0m: name 'bar' is not defined"
     ]
    }
   ],
   "source": [
    "# Saving the Bar Chart in the path\n",
    "bar.figure.savefig(os.path.join(path, 'Visualizations', 'Bar_orders_dow.png'))"
   ]
  },
  {
   "cell_type": "code",
   "execution_count": null,
   "id": "ca327ed9",
   "metadata": {
    "scrolled": true
   },
   "outputs": [],
   "source": [
    "# Create a bar chart (sort)\n",
    "df_ord_prod_merge_grouped_visual['orders_day_of_week'].value_counts().sort_index().plot.bar()"
   ]
  },
  {
   "cell_type": "code",
   "execution_count": null,
   "id": "a5cd968b",
   "metadata": {},
   "outputs": [],
   "source": [
    "# Create a bar chart with colours\n",
    "df_ord_prod_merge_grouped_visual['orders_day_of_week'].value_counts().plot.bar(color = ['red', 'green', 'purple', 'orange', 'pink', 'yellow', 'blue'])"
   ]
  },
  {
   "cell_type": "code",
   "execution_count": null,
   "id": "790b43de",
   "metadata": {},
   "outputs": [],
   "source": [
    "# Saving the Bar\n",
    "bar = df_ord_prod_merge_grouped_visual['orders_day_of_week'].value_counts().plot.bar(color =['red', 'green', 'purple', 'orange', 'pink', 'yellow', 'blue'])"
   ]
  },
  {
   "cell_type": "code",
   "execution_count": null,
   "id": "49e8b1ea",
   "metadata": {},
   "outputs": [],
   "source": [
    "bar.figure"
   ]
  },
  {
   "cell_type": "code",
   "execution_count": null,
   "id": "8876ac59",
   "metadata": {},
   "outputs": [],
   "source": [
    "# This command defines the path where python saves the Bar Chart\n",
    "path = r'/Users/obinwannealisigwe/Desktop/Python/Achievement_4_Project_Obi'"
   ]
  },
  {
   "cell_type": "code",
   "execution_count": null,
   "id": "8168f921",
   "metadata": {},
   "outputs": [],
   "source": [
    "# Saving the Bar Chart in the path\n",
    "bar.figure.savefig(os.path.join(path, 'Visualizations', 'bar_orders_dow.png'))"
   ]
  },
  {
   "cell_type": "markdown",
   "id": "335f4154",
   "metadata": {},
   "source": [
    "#### 3. Histogram"
   ]
  },
  {
   "cell_type": "code",
   "execution_count": null,
   "id": "37ea5d9e",
   "metadata": {},
   "outputs": [],
   "source": [
    "# Creating histogram\n",
    "df_ord_prod_merge_grouped_visual['prices'].plot.hist(bins = 25)"
   ]
  },
  {
   "cell_type": "code",
   "execution_count": null,
   "id": "bd33f93e",
   "metadata": {},
   "outputs": [],
   "source": [
    "df_ord_prod_merge_grouped_visual['prices'].describe()"
   ]
  },
  {
   "cell_type": "code",
   "execution_count": null,
   "id": "ece12608",
   "metadata": {},
   "outputs": [],
   "source": [
    "df_ord_prod_merge_grouped_visual['prices'].mean()"
   ]
  },
  {
   "cell_type": "code",
   "execution_count": null,
   "id": "6c449a72",
   "metadata": {},
   "outputs": [],
   "source": [
    "df_ord_prod_merge_grouped_visual['prices'].median()"
   ]
  },
  {
   "cell_type": "code",
   "execution_count": null,
   "id": "5ae86744",
   "metadata": {},
   "outputs": [],
   "source": [
    "df_ord_prod_merge_grouped_visual['prices'].max()"
   ]
  },
  {
   "cell_type": "code",
   "execution_count": null,
   "id": "89cb6d74",
   "metadata": {},
   "outputs": [],
   "source": [
    "# Creating scattered plot\n",
    "sns.scatterplot(x = 'prices', y = 'prices',data = df_ord_prod_merge_grouped_visual)"
   ]
  },
  {
   "cell_type": "code",
   "execution_count": null,
   "id": "067b1319",
   "metadata": {},
   "outputs": [],
   "source": [
    "# Investigating outliers or high values\n",
    "df_ord_prod_merge_grouped_visual.loc[df_ord_prod_merge_grouped_visual['prices'] > 100]"
   ]
  },
  {
   "cell_type": "code",
   "execution_count": null,
   "id": "fc889657",
   "metadata": {},
   "outputs": [],
   "source": [
    "# Converting the missing values in NaN\n",
    "df_ord_prod_merge_grouped_visual.loc[df_ord_prod_merge_grouped_visual['prices'] >100, 'prices'] = np.nan"
   ]
  },
  {
   "cell_type": "code",
   "execution_count": 110,
   "id": "63b74c96",
   "metadata": {},
   "outputs": [
    {
     "data": {
      "text/plain": [
       "25.0"
      ]
     },
     "execution_count": 110,
     "metadata": {},
     "output_type": "execute_result"
    }
   ],
   "source": [
    "df_ord_prod_merge_grouped_visual['prices'].max()"
   ]
  },
  {
   "cell_type": "code",
   "execution_count": 111,
   "id": "51edec06",
   "metadata": {},
   "outputs": [
    {
     "data": {
      "text/plain": [
       "<Axes: ylabel='Frequency'>"
      ]
     },
     "execution_count": 111,
     "metadata": {},
     "output_type": "execute_result"
    },
    {
     "data": {
      "image/png": "[encoded data removed]",
      "text/plain": [
       "<Figure size 640x480 with 1 Axes>"
      ]
     },
     "metadata": {},
     "output_type": "display_data"
    }
   ],
   "source": [
    "df_ord_prod_merge_grouped_visual['prices'].plot.hist(bins = 25)"
   ]
  },
  {
   "cell_type": "code",
   "execution_count": 112,
   "id": "9ef75cb2",
   "metadata": {},
   "outputs": [
    {
     "data": {
      "image/png": "[encoded data removed]",
      "text/plain": [
       "<Figure size 640x480 with 1 Axes>"
      ]
     },
     "metadata": {},
     "output_type": "display_data"
    }
   ],
   "source": [
    "hist = df_ord_prod_merge_grouped_visual['prices'].plot.hist(bins = 70)"
   ]
  },
  {
   "cell_type": "code",
   "execution_count": 113,
   "id": "923559a1",
   "metadata": {},
   "outputs": [
    {
     "data": {
      "image/png": "[encoded data removed]",
      "text/plain": [
       "<Figure size 640x480 with 1 Axes>"
      ]
     },
     "execution_count": 113,
     "metadata": {},
     "output_type": "execute_result"
    }
   ],
   "source": [
    "hist.figure"
   ]
  },
  {
   "cell_type": "code",
   "execution_count": 114,
   "id": "5363955f",
   "metadata": {},
   "outputs": [],
   "source": [
    "# Saving the Histogram in the path\n",
    "hist.figure.savefig(os.path.join(path, 'Visualizations', 'hist_orders_dow.png'))"
   ]
  },
  {
   "cell_type": "code",
   "execution_count": 115,
   "id": "2a376bdd",
   "metadata": {},
   "outputs": [],
   "source": [
    "np.random.seed(4)\n",
    "dev = np.random.rand(len(df_ord_prod_merge_grouped_visual)) <= 0.7"
   ]
  },
  {
   "cell_type": "code",
   "execution_count": 116,
   "id": "de1258ff",
   "metadata": {},
   "outputs": [
    {
     "data": {
      "text/plain": [
       "array([False,  True, False, ...,  True,  True,  True])"
      ]
     },
     "execution_count": 116,
     "metadata": {},
     "output_type": "execute_result"
    }
   ],
   "source": [
    "dev"
   ]
  },
  {
   "cell_type": "code",
   "execution_count": 117,
   "id": "18d1a0f5",
   "metadata": {},
   "outputs": [
    {
     "data": {
      "text/plain": [
       "array([0.93546686, 0.06557465, 0.85698584, 0.24456371, 0.22683171,\n",
       "       0.17068366, 0.27008946, 0.52534234, 0.83151571, 0.78153402])"
      ]
     },
     "execution_count": 117,
     "metadata": {},
     "output_type": "execute_result"
    }
   ],
   "source": [
    "np.random.rand(10)"
   ]
  },
  {
   "cell_type": "code",
   "execution_count": 118,
   "id": "ca1d92d7",
   "metadata": {},
   "outputs": [],
   "source": [
    "# Create a list holding True/False values to the test np.random.rant() <= 0.7\n",
    "dev = np.random.rand(len(df_ord_prod_merge_grouped_visual)) <= 0.7"
   ]
  },
  {
   "cell_type": "code",
   "execution_count": 119,
   "id": "1d4de944",
   "metadata": {},
   "outputs": [],
   "source": [
    "# Store 70% of the sample in the dataframe big\n",
    "big = df_ord_prod_merge_grouped_visual[dev]"
   ]
  },
  {
   "cell_type": "code",
   "execution_count": 120,
   "id": "bc80ce02",
   "metadata": {},
   "outputs": [],
   "source": [
    "# Store 30% of the sample in the dataframe small\n",
    "small = df_ord_prod_merge_grouped_visual[~dev]"
   ]
  },
  {
   "cell_type": "code",
   "execution_count": 121,
   "id": "fa4dacd0",
   "metadata": {},
   "outputs": [
    {
     "data": {
      "text/plain": [
       "32404859"
      ]
     },
     "execution_count": 121,
     "metadata": {},
     "output_type": "execute_result"
    }
   ],
   "source": [
    "len(df_ord_prod_merge_grouped_visual)"
   ]
  },
  {
   "cell_type": "code",
   "execution_count": 122,
   "id": "610588f1",
   "metadata": {},
   "outputs": [
    {
     "data": {
      "text/plain": [
       "32404859"
      ]
     },
     "execution_count": 122,
     "metadata": {},
     "output_type": "execute_result"
    }
   ],
   "source": [
    "len(big) + len(small)"
   ]
  },
  {
   "cell_type": "code",
   "execution_count": 123,
   "id": "4ca19f7c",
   "metadata": {},
   "outputs": [],
   "source": [
    "df_2 = small[['orders_day_of_week','prices']]"
   ]
  },
  {
   "cell_type": "code",
   "execution_count": 124,
   "id": "5782a5c7",
   "metadata": {},
   "outputs": [
    {
     "name": "stderr",
     "output_type": "stream",
     "text": [
      "/opt/anaconda3/lib/python3.11/site-packages/seaborn/_oldcore.py:1119: FutureWarning: use_inf_as_na option is deprecated and will be removed in a future version. Convert inf values to NaN before operating instead.\n",
      "  with pd.option_context('mode.use_inf_as_na', True):\n",
      "/opt/anaconda3/lib/python3.11/site-packages/seaborn/_oldcore.py:1119: FutureWarning: use_inf_as_na option is deprecated and will be removed in a future version. Convert inf values to NaN before operating instead.\n",
      "  with pd.option_context('mode.use_inf_as_na', True):\n"
     ]
    },
    {
     "data": {
      "image/png": "[encoded data removed]",
      "text/plain": [
       "<Figure size 640x480 with 1 Axes>"
      ]
     },
     "metadata": {},
     "output_type": "display_data"
    }
   ],
   "source": [
    "# Creating a line Chart\n",
    "line = sns.lineplot(data = df_2, x = 'orders_day_of_week',y = 'prices')"
   ]
  },
  {
   "cell_type": "code",
   "execution_count": 125,
   "id": "487c8da0",
   "metadata": {},
   "outputs": [],
   "source": [
    "# Saving the line chart in the path\n",
    "line.figure.savefig(os.path.join(path, 'Visualizations', 'orders_day_of_week.png'))"
   ]
  }
 ],
 "metadata": {
  "kernelspec": {
   "display_name": "Python 3 (ipykernel)",
   "language": "python",
   "name": "python3"
  },
  "language_info": {
   "codemirror_mode": {
    "name": "ipython",
    "version": 3
   },
   "file_extension": ".py",
   "mimetype": "text/x-python",
   "name": "python",
   "nbconvert_exporter": "python",
   "pygments_lexer": "ipython3",
   "version": "3.11.7"
  }
 },
 "nbformat": 4,
 "nbformat_minor": 5
}
