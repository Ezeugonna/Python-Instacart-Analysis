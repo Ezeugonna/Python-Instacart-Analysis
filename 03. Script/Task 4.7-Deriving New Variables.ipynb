{
 "cells": [
  {
   "cell_type": "markdown",
   "id": "b3ea0edc",
   "metadata": {},
   "source": [
    "# Task 4.7: Deriving New Variables"
   ]
  },
  {
   "cell_type": "markdown",
   "id": "c80b6477",
   "metadata": {},
   "source": [
    "## Content of the script"
   ]
  },
  {
   "cell_type": "markdown",
   "id": "34c1d4ba",
   "metadata": {},
   "source": [
    "### 1. Creating Price_label Column"
   ]
  },
  {
   "cell_type": "markdown",
   "id": "e134634a",
   "metadata": {},
   "source": [
    "### 2. Creating Busiest_day Column"
   ]
  },
  {
   "cell_type": "markdown",
   "id": "dfe33d61",
   "metadata": {},
   "source": [
    "### 3. Update busiest days, Slowest days and Regular busy"
   ]
  },
  {
   "cell_type": "markdown",
   "id": "be5f5a63",
   "metadata": {},
   "source": [
    "### 4. Check the values of this new column for accuracy. Note any observations in markdown format."
   ]
  },
  {
   "cell_type": "markdown",
   "id": "92ea4f8d",
   "metadata": {},
   "source": [
    "### 5. Create new column \"busiest_period_of_day\" to identify time periods \"Most_orders\", \"Average_orders\", and \"Fewest_orders\""
   ]
  },
  {
   "cell_type": "markdown",
   "id": "605e8ac5",
   "metadata": {},
   "source": [
    "### 6. Print the frequency of \"busiest_period_of_day\" column"
   ]
  },
  {
   "cell_type": "markdown",
   "id": "a76c3809",
   "metadata": {},
   "source": [
    "### 7. Export dataframe as pickle file to 'prepared Data' folder"
   ]
  },
  {
   "cell_type": "code",
   "execution_count": 2,
   "id": "18a611e2",
   "metadata": {},
   "outputs": [],
   "source": [
    "# import libraries\n",
    "import pandas as pd\n",
    "import numpy as np\n",
    "import os"
   ]
  },
  {
   "cell_type": "code",
   "execution_count": 3,
   "id": "72983b68",
   "metadata": {},
   "outputs": [],
   "source": [
    "# This command tells python to remember a main folder path_Original Data\n",
    "path_1= r'/Users/obinwannealisigwe/Desktop/Python/Achievement_4_Project_Obi/02. Data/Original Data'"
   ]
  },
  {
   "cell_type": "code",
   "execution_count": 4,
   "id": "f3a0de26",
   "metadata": {},
   "outputs": [],
   "source": [
    "# This command tells python to remember a main folder path_Prepared Data\n",
    "path = r'/Users/obinwannealisigwe/Desktop/Python/Achievement_4_Project_Obi/02. Data/Prepared Data'"
   ]
  },
  {
   "cell_type": "code",
   "execution_count": 5,
   "id": "e5ba483b",
   "metadata": {},
   "outputs": [],
   "source": [
    "# Importing the 'df_merged' file into the Jupyter \n",
    "df_ord_prod_merge = pd.read_pickle(os.path.join(path, 'ord_prod_combined.pkl'))"
   ]
  },
  {
   "cell_type": "code",
   "execution_count": 6,
   "id": "22d67376",
   "metadata": {},
   "outputs": [
    {
     "data": {
      "text/html": [
       "<div>\n",
       "<style scoped>\n",
       "    .dataframe tbody tr th:only-of-type {\n",
       "        vertical-align: middle;\n",
       "    }\n",
       "\n",
       "    .dataframe tbody tr th {\n",
       "        vertical-align: top;\n",
       "    }\n",
       "\n",
       "    .dataframe thead th {\n",
       "        text-align: right;\n",
       "    }\n",
       "</style>\n",
       "<table border=\"1\" class=\"dataframe\">\n",
       "  <thead>\n",
       "    <tr style=\"text-align: right;\">\n",
       "      <th></th>\n",
       "      <th>product_id</th>\n",
       "      <th>product_name</th>\n",
       "      <th>aisle_id</th>\n",
       "      <th>department_id</th>\n",
       "      <th>prices</th>\n",
       "      <th>order_id</th>\n",
       "      <th>user_id</th>\n",
       "      <th>order_number</th>\n",
       "      <th>orders_day_of_week</th>\n",
       "      <th>order_hour_of_day</th>\n",
       "      <th>days_since_prior_order</th>\n",
       "      <th>add_to_cart_order</th>\n",
       "      <th>reordered</th>\n",
       "      <th>_merge</th>\n",
       "    </tr>\n",
       "  </thead>\n",
       "  <tbody>\n",
       "    <tr>\n",
       "      <th>0</th>\n",
       "      <td>1</td>\n",
       "      <td>Chocolate Sandwich Cookies</td>\n",
       "      <td>61</td>\n",
       "      <td>19</td>\n",
       "      <td>5.8</td>\n",
       "      <td>3139998</td>\n",
       "      <td>138</td>\n",
       "      <td>28</td>\n",
       "      <td>6</td>\n",
       "      <td>11</td>\n",
       "      <td>3.0</td>\n",
       "      <td>5</td>\n",
       "      <td>0</td>\n",
       "      <td>both</td>\n",
       "    </tr>\n",
       "    <tr>\n",
       "      <th>1</th>\n",
       "      <td>1</td>\n",
       "      <td>Chocolate Sandwich Cookies</td>\n",
       "      <td>61</td>\n",
       "      <td>19</td>\n",
       "      <td>5.8</td>\n",
       "      <td>1977647</td>\n",
       "      <td>138</td>\n",
       "      <td>30</td>\n",
       "      <td>6</td>\n",
       "      <td>17</td>\n",
       "      <td>20.0</td>\n",
       "      <td>1</td>\n",
       "      <td>1</td>\n",
       "      <td>both</td>\n",
       "    </tr>\n",
       "    <tr>\n",
       "      <th>2</th>\n",
       "      <td>1</td>\n",
       "      <td>Chocolate Sandwich Cookies</td>\n",
       "      <td>61</td>\n",
       "      <td>19</td>\n",
       "      <td>5.8</td>\n",
       "      <td>389851</td>\n",
       "      <td>709</td>\n",
       "      <td>2</td>\n",
       "      <td>0</td>\n",
       "      <td>21</td>\n",
       "      <td>6.0</td>\n",
       "      <td>20</td>\n",
       "      <td>0</td>\n",
       "      <td>both</td>\n",
       "    </tr>\n",
       "    <tr>\n",
       "      <th>3</th>\n",
       "      <td>1</td>\n",
       "      <td>Chocolate Sandwich Cookies</td>\n",
       "      <td>61</td>\n",
       "      <td>19</td>\n",
       "      <td>5.8</td>\n",
       "      <td>652770</td>\n",
       "      <td>764</td>\n",
       "      <td>1</td>\n",
       "      <td>3</td>\n",
       "      <td>13</td>\n",
       "      <td>NaN</td>\n",
       "      <td>10</td>\n",
       "      <td>0</td>\n",
       "      <td>both</td>\n",
       "    </tr>\n",
       "    <tr>\n",
       "      <th>4</th>\n",
       "      <td>1</td>\n",
       "      <td>Chocolate Sandwich Cookies</td>\n",
       "      <td>61</td>\n",
       "      <td>19</td>\n",
       "      <td>5.8</td>\n",
       "      <td>1813452</td>\n",
       "      <td>764</td>\n",
       "      <td>3</td>\n",
       "      <td>4</td>\n",
       "      <td>17</td>\n",
       "      <td>9.0</td>\n",
       "      <td>11</td>\n",
       "      <td>1</td>\n",
       "      <td>both</td>\n",
       "    </tr>\n",
       "  </tbody>\n",
       "</table>\n",
       "</div>"
      ],
      "text/plain": [
       "   product_id                product_name  aisle_id  department_id  prices  \\\n",
       "0           1  Chocolate Sandwich Cookies        61             19     5.8   \n",
       "1           1  Chocolate Sandwich Cookies        61             19     5.8   \n",
       "2           1  Chocolate Sandwich Cookies        61             19     5.8   \n",
       "3           1  Chocolate Sandwich Cookies        61             19     5.8   \n",
       "4           1  Chocolate Sandwich Cookies        61             19     5.8   \n",
       "\n",
       "   order_id  user_id  order_number  orders_day_of_week  order_hour_of_day  \\\n",
       "0   3139998      138            28                   6                 11   \n",
       "1   1977647      138            30                   6                 17   \n",
       "2    389851      709             2                   0                 21   \n",
       "3    652770      764             1                   3                 13   \n",
       "4   1813452      764             3                   4                 17   \n",
       "\n",
       "   days_since_prior_order  add_to_cart_order  reordered _merge  \n",
       "0                     3.0                  5          0   both  \n",
       "1                    20.0                  1          1   both  \n",
       "2                     6.0                 20          0   both  \n",
       "3                     NaN                 10          0   both  \n",
       "4                     9.0                 11          1   both  "
      ]
     },
     "execution_count": 6,
     "metadata": {},
     "output_type": "execute_result"
    }
   ],
   "source": [
    "df_ord_prod_merge.head()"
   ]
  },
  {
   "cell_type": "markdown",
   "id": "af47af13",
   "metadata": {},
   "source": [
    "## 1. Creating Price_label Column"
   ]
  },
  {
   "cell_type": "code",
   "execution_count": 7,
   "id": "50820269",
   "metadata": {},
   "outputs": [],
   "source": [
    "# Create a subset\n",
    "df = df_ord_prod_merge[:1000000]"
   ]
  },
  {
   "cell_type": "code",
   "execution_count": 9,
   "id": "b6608243",
   "metadata": {},
   "outputs": [],
   "source": [
    "# Define a function\n",
    "def price_label(row):\n",
    "    if row['prices'] <= 5:\n",
    "        return 'Low range product'\n",
    "    elif (row['prices'] > 5) and (row['prices'] <= 15):\n",
    "        return 'Mid range product'\n",
    "    elif row['prices'] > 15:\n",
    "        return 'High range'\n",
    "    else: return np.nan"
   ]
  },
  {
   "cell_type": "code",
   "execution_count": 10,
   "id": "98807e7d",
   "metadata": {},
   "outputs": [],
   "source": [
    "df_ord_prod_merge['price_range'] = df_ord_prod_merge.apply(price_label, axis = 1)"
   ]
  },
  {
   "cell_type": "code",
   "execution_count": 11,
   "id": "a23253f3",
   "metadata": {},
   "outputs": [
    {
     "name": "stderr",
     "output_type": "stream",
     "text": [
      "/var/folders/ld/rygzx5nj4x3ddd2l1z5rj3m80000gn/T/ipykernel_99423/2004007646.py:2: SettingWithCopyWarning: \n",
      "A value is trying to be set on a copy of a slice from a DataFrame.\n",
      "Try using .loc[row_indexer,col_indexer] = value instead\n",
      "\n",
      "See the caveats in the documentation: https://pandas.pydata.org/pandas-docs/stable/user_guide/indexing.html#returning-a-view-versus-a-copy\n",
      "  df['price_range'] = df.apply(price_label, axis = 1)\n"
     ]
    }
   ],
   "source": [
    "# Apply the function\n",
    "df['price_range'] = df.apply(price_label, axis = 1)"
   ]
  },
  {
   "cell_type": "code",
   "execution_count": 12,
   "id": "273c7fb2",
   "metadata": {},
   "outputs": [
    {
     "data": {
      "text/html": [
       "<div>\n",
       "<style scoped>\n",
       "    .dataframe tbody tr th:only-of-type {\n",
       "        vertical-align: middle;\n",
       "    }\n",
       "\n",
       "    .dataframe tbody tr th {\n",
       "        vertical-align: top;\n",
       "    }\n",
       "\n",
       "    .dataframe thead th {\n",
       "        text-align: right;\n",
       "    }\n",
       "</style>\n",
       "<table border=\"1\" class=\"dataframe\">\n",
       "  <thead>\n",
       "    <tr style=\"text-align: right;\">\n",
       "      <th></th>\n",
       "      <th>product_id</th>\n",
       "      <th>product_name</th>\n",
       "      <th>aisle_id</th>\n",
       "      <th>department_id</th>\n",
       "      <th>prices</th>\n",
       "      <th>order_id</th>\n",
       "      <th>user_id</th>\n",
       "      <th>order_number</th>\n",
       "      <th>orders_day_of_week</th>\n",
       "      <th>order_hour_of_day</th>\n",
       "      <th>days_since_prior_order</th>\n",
       "      <th>add_to_cart_order</th>\n",
       "      <th>reordered</th>\n",
       "      <th>_merge</th>\n",
       "      <th>price_range</th>\n",
       "    </tr>\n",
       "  </thead>\n",
       "  <tbody>\n",
       "    <tr>\n",
       "      <th>0</th>\n",
       "      <td>1</td>\n",
       "      <td>Chocolate Sandwich Cookies</td>\n",
       "      <td>61</td>\n",
       "      <td>19</td>\n",
       "      <td>5.8</td>\n",
       "      <td>3139998</td>\n",
       "      <td>138</td>\n",
       "      <td>28</td>\n",
       "      <td>6</td>\n",
       "      <td>11</td>\n",
       "      <td>3.0</td>\n",
       "      <td>5</td>\n",
       "      <td>0</td>\n",
       "      <td>both</td>\n",
       "      <td>Mid range product</td>\n",
       "    </tr>\n",
       "    <tr>\n",
       "      <th>1</th>\n",
       "      <td>1</td>\n",
       "      <td>Chocolate Sandwich Cookies</td>\n",
       "      <td>61</td>\n",
       "      <td>19</td>\n",
       "      <td>5.8</td>\n",
       "      <td>1977647</td>\n",
       "      <td>138</td>\n",
       "      <td>30</td>\n",
       "      <td>6</td>\n",
       "      <td>17</td>\n",
       "      <td>20.0</td>\n",
       "      <td>1</td>\n",
       "      <td>1</td>\n",
       "      <td>both</td>\n",
       "      <td>Mid range product</td>\n",
       "    </tr>\n",
       "    <tr>\n",
       "      <th>2</th>\n",
       "      <td>1</td>\n",
       "      <td>Chocolate Sandwich Cookies</td>\n",
       "      <td>61</td>\n",
       "      <td>19</td>\n",
       "      <td>5.8</td>\n",
       "      <td>389851</td>\n",
       "      <td>709</td>\n",
       "      <td>2</td>\n",
       "      <td>0</td>\n",
       "      <td>21</td>\n",
       "      <td>6.0</td>\n",
       "      <td>20</td>\n",
       "      <td>0</td>\n",
       "      <td>both</td>\n",
       "      <td>Mid range product</td>\n",
       "    </tr>\n",
       "    <tr>\n",
       "      <th>3</th>\n",
       "      <td>1</td>\n",
       "      <td>Chocolate Sandwich Cookies</td>\n",
       "      <td>61</td>\n",
       "      <td>19</td>\n",
       "      <td>5.8</td>\n",
       "      <td>652770</td>\n",
       "      <td>764</td>\n",
       "      <td>1</td>\n",
       "      <td>3</td>\n",
       "      <td>13</td>\n",
       "      <td>NaN</td>\n",
       "      <td>10</td>\n",
       "      <td>0</td>\n",
       "      <td>both</td>\n",
       "      <td>Mid range product</td>\n",
       "    </tr>\n",
       "    <tr>\n",
       "      <th>4</th>\n",
       "      <td>1</td>\n",
       "      <td>Chocolate Sandwich Cookies</td>\n",
       "      <td>61</td>\n",
       "      <td>19</td>\n",
       "      <td>5.8</td>\n",
       "      <td>1813452</td>\n",
       "      <td>764</td>\n",
       "      <td>3</td>\n",
       "      <td>4</td>\n",
       "      <td>17</td>\n",
       "      <td>9.0</td>\n",
       "      <td>11</td>\n",
       "      <td>1</td>\n",
       "      <td>both</td>\n",
       "      <td>Mid range product</td>\n",
       "    </tr>\n",
       "  </tbody>\n",
       "</table>\n",
       "</div>"
      ],
      "text/plain": [
       "   product_id                product_name  aisle_id  department_id  prices  \\\n",
       "0           1  Chocolate Sandwich Cookies        61             19     5.8   \n",
       "1           1  Chocolate Sandwich Cookies        61             19     5.8   \n",
       "2           1  Chocolate Sandwich Cookies        61             19     5.8   \n",
       "3           1  Chocolate Sandwich Cookies        61             19     5.8   \n",
       "4           1  Chocolate Sandwich Cookies        61             19     5.8   \n",
       "\n",
       "   order_id  user_id  order_number  orders_day_of_week  order_hour_of_day  \\\n",
       "0   3139998      138            28                   6                 11   \n",
       "1   1977647      138            30                   6                 17   \n",
       "2    389851      709             2                   0                 21   \n",
       "3    652770      764             1                   3                 13   \n",
       "4   1813452      764             3                   4                 17   \n",
       "\n",
       "   days_since_prior_order  add_to_cart_order  reordered _merge  \\\n",
       "0                     3.0                  5          0   both   \n",
       "1                    20.0                  1          1   both   \n",
       "2                     6.0                 20          0   both   \n",
       "3                     NaN                 10          0   both   \n",
       "4                     9.0                 11          1   both   \n",
       "\n",
       "         price_range  \n",
       "0  Mid range product  \n",
       "1  Mid range product  \n",
       "2  Mid range product  \n",
       "3  Mid range product  \n",
       "4  Mid range product  "
      ]
     },
     "execution_count": 12,
     "metadata": {},
     "output_type": "execute_result"
    }
   ],
   "source": [
    "#df['price_range'].value_counts(dropna = False)\n",
    "df.head()"
   ]
  },
  {
   "cell_type": "code",
   "execution_count": 13,
   "id": "b3694d4d",
   "metadata": {},
   "outputs": [
    {
     "data": {
      "text/plain": [
       "(1000000, 15)"
      ]
     },
     "execution_count": 13,
     "metadata": {},
     "output_type": "execute_result"
    }
   ],
   "source": [
    "df.shape"
   ]
  },
  {
   "cell_type": "code",
   "execution_count": 14,
   "id": "f730284f",
   "metadata": {},
   "outputs": [
    {
     "data": {
      "text/plain": [
       "24.5"
      ]
     },
     "execution_count": 14,
     "metadata": {},
     "output_type": "execute_result"
    }
   ],
   "source": [
    "df['prices'].max()"
   ]
  },
  {
   "cell_type": "code",
   "execution_count": 15,
   "id": "8ed63321",
   "metadata": {},
   "outputs": [
    {
     "data": {
      "text/plain": [
       "price_range\n",
       "Mid range product    652638\n",
       "Low range product    338018\n",
       "High range             9344\n",
       "Name: count, dtype: int64"
      ]
     },
     "execution_count": 15,
     "metadata": {},
     "output_type": "execute_result"
    }
   ],
   "source": [
    "df['price_range'].value_counts(dropna = False)"
   ]
  },
  {
   "cell_type": "code",
   "execution_count": 16,
   "id": "b1b3c797",
   "metadata": {},
   "outputs": [
    {
     "name": "stderr",
     "output_type": "stream",
     "text": [
      "/var/folders/ld/rygzx5nj4x3ddd2l1z5rj3m80000gn/T/ipykernel_99423/1169838859.py:1: SettingWithCopyWarning: \n",
      "A value is trying to be set on a copy of a slice from a DataFrame.\n",
      "Try using .loc[row_indexer,col_indexer] = value instead\n",
      "\n",
      "See the caveats in the documentation: https://pandas.pydata.org/pandas-docs/stable/user_guide/indexing.html#returning-a-view-versus-a-copy\n",
      "  df.loc[df['prices'] > 15, 'price_range_loc'] = 'High-range product'\n"
     ]
    }
   ],
   "source": [
    "df.loc[df['prices'] > 15, 'price_range_loc'] = 'High-range product'"
   ]
  },
  {
   "cell_type": "code",
   "execution_count": 17,
   "id": "c0b6128d",
   "metadata": {},
   "outputs": [],
   "source": [
    "df.loc[(df['prices'] <= 15) & (df['prices'] > 5), 'price_range_loc'] = 'Mid-range product'"
   ]
  },
  {
   "cell_type": "code",
   "execution_count": 18,
   "id": "33a6877f",
   "metadata": {},
   "outputs": [],
   "source": [
    "df.loc[df['prices'] <= 5, 'price_range_loc'] = 'Low-range product'"
   ]
  },
  {
   "cell_type": "code",
   "execution_count": 19,
   "id": "88ceb682",
   "metadata": {},
   "outputs": [
    {
     "data": {
      "text/plain": [
       "price_range\n",
       "Mid range product    652638\n",
       "Low range product    338018\n",
       "High range             9344\n",
       "Name: count, dtype: int64"
      ]
     },
     "execution_count": 19,
     "metadata": {},
     "output_type": "execute_result"
    }
   ],
   "source": [
    "df['price_range'].value_counts(dropna = False)"
   ]
  },
  {
   "cell_type": "markdown",
   "id": "a87527a0",
   "metadata": {},
   "source": [
    "## 2. Creating Busiest_day Column"
   ]
  },
  {
   "cell_type": "code",
   "execution_count": 20,
   "id": "ea7a135e",
   "metadata": {},
   "outputs": [
    {
     "data": {
      "text/plain": [
       "orders_day_of_week\n",
       "0    6204182\n",
       "1    5660230\n",
       "6    4496490\n",
       "2    4213830\n",
       "5    4205791\n",
       "3    3840534\n",
       "4    3783802\n",
       "Name: count, dtype: int64"
      ]
     },
     "execution_count": 20,
     "metadata": {},
     "output_type": "execute_result"
    }
   ],
   "source": [
    "# For-Loop on Instacart df\n",
    "df_ord_prod_merge['orders_day_of_week'].value_counts(dropna = False)"
   ]
  },
  {
   "cell_type": "code",
   "execution_count": 21,
   "id": "7fd33935",
   "metadata": {},
   "outputs": [
    {
     "ename": "NameError",
     "evalue": "name 'ord_prod_merge' is not defined",
     "output_type": "error",
     "traceback": [
      "\u001b[0;31m---------------------------------------------------------------------------\u001b[0m",
      "\u001b[0;31mNameError\u001b[0m                                 Traceback (most recent call last)",
      "Cell \u001b[0;32mIn[21], line 4\u001b[0m\n\u001b[1;32m      1\u001b[0m \u001b[38;5;66;03m# use for-loop to determine if orders are on 'busiest day' (0 = Saturday), 'least busy' (4 = Wednesday), or regularly busy (other days)\u001b[39;00m\n\u001b[1;32m      2\u001b[0m result \u001b[38;5;241m=\u001b[39m []\n\u001b[0;32m----> 4\u001b[0m \u001b[38;5;28;01mfor\u001b[39;00m value \u001b[38;5;129;01min\u001b[39;00m ord_prod_merge[\u001b[38;5;124m\"\u001b[39m\u001b[38;5;124morders_day_of_week\u001b[39m\u001b[38;5;124m\"\u001b[39m]:\n\u001b[1;32m      5\u001b[0m     \u001b[38;5;28;01mif\u001b[39;00m value \u001b[38;5;241m==\u001b[39m \u001b[38;5;241m0\u001b[39m:\n\u001b[1;32m      6\u001b[0m         result\u001b[38;5;241m.\u001b[39mappend(\u001b[38;5;124m\"\u001b[39m\u001b[38;5;124mBusiest day\u001b[39m\u001b[38;5;124m\"\u001b[39m)\n",
      "\u001b[0;31mNameError\u001b[0m: name 'ord_prod_merge' is not defined"
     ]
    }
   ],
   "source": [
    "# use for-loop to determine if orders are on 'busiest day' (0 = Saturday), 'least busy' (4 = Wednesday), or regularly busy (other days)\n",
    "result = []\n",
    "\n",
    "for value in ord_prod_merge[\"orders_day_of_week\"]:\n",
    "    if value == 0:\n",
    "        result.append(\"Busiest day\")\n",
    "    elif value == 4:\n",
    "        result.append(\"Least busy\")\n",
    "    else: \n",
    "        result.append(\"Regularly busy\")"
   ]
  },
  {
   "cell_type": "code",
   "execution_count": null,
   "id": "22ff01e1",
   "metadata": {},
   "outputs": [],
   "source": [
    "result"
   ]
  },
  {
   "cell_type": "code",
   "execution_count": null,
   "id": "dc6f78ee",
   "metadata": {},
   "outputs": [],
   "source": [
    "# New column created for ord_prod_merge to view results in context\n",
    "df_ord_prod_merge['busiest_day'] = result"
   ]
  },
  {
   "cell_type": "code",
   "execution_count": null,
   "id": "35e87ea9",
   "metadata": {},
   "outputs": [],
   "source": [
    "df_ord_prod_merge['busiest_day'].value_counts(dropna = False)"
   ]
  },
  {
   "cell_type": "code",
   "execution_count": null,
   "id": "1a216ffb",
   "metadata": {},
   "outputs": [],
   "source": [
    "print(df['orders_day_of_week'])"
   ]
  },
  {
   "cell_type": "markdown",
   "id": "f2c8a4c3",
   "metadata": {},
   "source": [
    "## 3. Update busiest days, Slowest days and Regular busy"
   ]
  },
  {
   "cell_type": "code",
   "execution_count": null,
   "id": "3b8df75f",
   "metadata": {},
   "outputs": [],
   "source": [
    "# Create column “busiest_days\" from \"orders_day_of_week\" to identify two busiest days (0, 1), slowest days (3,4), or regularly busy (all other days).\n",
    "result_1 = []\n",
    "\n",
    "for value in ord_prod_merge[\"orders_day_of_week\"]:\n",
    "    if value == 0 or value == 1:\n",
    "        result_1.append(\"Busiest days\")\n",
    "    elif value == 4 or value == 3:\n",
    "        result_1.append(\"Slowest days\")\n",
    "    else: \n",
    "        result_1.append(\"Regularly busy\")"
   ]
  },
  {
   "cell_type": "code",
   "execution_count": null,
   "id": "ee74c44f",
   "metadata": {},
   "outputs": [],
   "source": [
    "result_1"
   ]
  },
  {
   "cell_type": "markdown",
   "id": "462358e3",
   "metadata": {},
   "source": [
    "## 4. Check the values of this new column for accuracy. Note any observations in markdown format"
   ]
  },
  {
   "cell_type": "code",
   "execution_count": null,
   "id": "79c71931",
   "metadata": {},
   "outputs": [],
   "source": [
    "# Create new 'busiest_days' column in ord_prod_merge to view results in context.\n",
    "df_ord_prod_merge['busiest_days'] = result_1"
   ]
  },
  {
   "cell_type": "code",
   "execution_count": null,
   "id": "c4677a50",
   "metadata": {},
   "outputs": [],
   "source": [
    "df_ord_prod_merge['busiest_days'].value_counts(dropna = False)"
   ]
  },
  {
   "cell_type": "code",
   "execution_count": null,
   "id": "d14d196d",
   "metadata": {},
   "outputs": [],
   "source": [
    "# Check output of ords_prods_merge with new \"busiest days\" column.\n",
    "df_ord_prod_merge.head()"
   ]
  },
  {
   "cell_type": "markdown",
   "id": "430dc7f0",
   "metadata": {},
   "source": [
    "### Note: The total value counts for the ord_prod_merge dataframe are equal to the sum of all groupings. \"Regularly busy\", \"Busiest days\", and \"Slowest days\" The listed sums for each label match the sum totals for the qualifying days of the week. For example, the total for “Busiest days” is 11,864,412, which matches the sum of orders on days 0 (Sunday) and 1 (Monday)"
   ]
  },
  {
   "cell_type": "markdown",
   "id": "1636ee7f",
   "metadata": {},
   "source": [
    "## 5. Create new column \"busiest_period_of_day\" to identify time periods \"Most_orders\", \"Average_orders\", and \"Fewest_orders\""
   ]
  },
  {
   "cell_type": "code",
   "execution_count": null,
   "id": "6ab37e74",
   "metadata": {},
   "outputs": [],
   "source": [
    "# check value counts in 'order_hour_of_day' column\n",
    "df_ord_prod_merge['order_hour_of_day'].value_counts(dropna = False)"
   ]
  },
  {
   "cell_type": "markdown",
   "id": "3d12ecfe",
   "metadata": {},
   "source": [
    "## The value counts are splitted in the following labels: \"Most orders\" = 10,11,14,15,13,12,16,9,17,8,18,19; \"Average orders\" = 20,7,21,22,23,6,0,1; \"Fewest orders\"= remaining values in order_hour_of_day."
   ]
  },
  {
   "cell_type": "code",
   "execution_count": null,
   "id": "aa4179d3",
   "metadata": {},
   "outputs": [],
   "source": [
    "# create for-loop if statement labeling \"Most orders\", \"Average orders\", and \"Fewest orders\"\n",
    "result_2 = []\n",
    "\n",
    "for value in ord_prod_merge[\"order_hour_of_day\"]:\n",
    "    if value in [10,11,14,15,13,12,16,9,17,8,18,19]:\n",
    "        result_2.append(\"Most orders\")\n",
    "    elif value in [20,7,21,22,23,6,0,1]:\n",
    "        result_2.append(\"Average orders\")\n",
    "    else: \n",
    "        result_2.append(\"Fewest orders\")"
   ]
  },
  {
   "cell_type": "code",
   "execution_count": null,
   "id": "4f29ec73",
   "metadata": {},
   "outputs": [],
   "source": [
    "result_2"
   ]
  },
  {
   "cell_type": "code",
   "execution_count": null,
   "id": "eeef8a96",
   "metadata": {},
   "outputs": [],
   "source": [
    "# Create new column \"busiest_period_of_day\" in ords_prods_merge.\n",
    "df_ord_prod_merge['busiest_period_of_day'] = result_2"
   ]
  },
  {
   "cell_type": "code",
   "execution_count": 22,
   "id": "c6d8c189",
   "metadata": {},
   "outputs": [
    {
     "data": {
      "text/plain": [
       "(1000000, 16)"
      ]
     },
     "execution_count": 22,
     "metadata": {},
     "output_type": "execute_result"
    }
   ],
   "source": [
    "df.shape"
   ]
  },
  {
   "cell_type": "markdown",
   "id": "3350538e",
   "metadata": {},
   "source": [
    "## 6. Print the frequency of \"busiest_period_of_day\" column"
   ]
  },
  {
   "cell_type": "code",
   "execution_count": null,
   "id": "282ac41e",
   "metadata": {},
   "outputs": [],
   "source": [
    "# print value counts in \"busiest_period_of_day\" column\n",
    "df_ord_prod_merge['busiest_period_of_day'].value_counts(dropna = False)"
   ]
  },
  {
   "cell_type": "markdown",
   "id": "2ca1d611",
   "metadata": {},
   "source": [
    "## 7. Export dataframe as pickle file to 'prepared Data' folder"
   ]
  },
  {
   "cell_type": "code",
   "execution_count": null,
   "id": "8f0de847",
   "metadata": {},
   "outputs": [],
   "source": [
    "# Export data \"pkl\"\n",
    "df_ord_prod_merge.to_pickle(os.path.join(path,'orders_products_merged_variables.pkl'))"
   ]
  }
 ],
 "metadata": {
  "kernelspec": {
   "display_name": "Python 3 (ipykernel)",
   "language": "python",
   "name": "python3"
  },
  "language_info": {
   "codemirror_mode": {
    "name": "ipython",
    "version": 3
   },
   "file_extension": ".py",
   "mimetype": "text/x-python",
   "name": "python",
   "nbconvert_exporter": "python",
   "pygments_lexer": "ipython3",
   "version": "3.11.7"
  }
 },
 "nbformat": 4,
 "nbformat_minor": 5
}
